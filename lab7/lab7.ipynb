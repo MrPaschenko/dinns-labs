{
 "cells": [
  {
   "cell_type": "code",
   "execution_count": 1,
   "metadata": {
    "collapsed": true,
    "ExecuteTime": {
     "end_time": "2023-06-01T11:35:13.308887Z",
     "start_time": "2023-06-01T11:35:08.373917Z"
    }
   },
   "outputs": [],
   "source": [
    "import tensorflow_datasets as tfds\n",
    "import matplotlib.pyplot as plt\n",
    "import tensorflow as tf\n",
    "import numpy as np"
   ]
  },
  {
   "cell_type": "code",
   "execution_count": 2,
   "outputs": [
    {
     "name": "stdout",
     "output_type": "stream",
     "text": [
      "Metal device set to: Apple M1\n"
     ]
    },
    {
     "name": "stderr",
     "output_type": "stream",
     "text": [
      "2023-06-01 13:35:13.407781: W tensorflow/core/platform/profile_utils/cpu_utils.cc:128] Failed to get CPU frequency: 0 Hz\n"
     ]
    }
   ],
   "source": [
    "dataset = tfds.load('yelp_polarity_reviews')\n",
    "\n",
    "train_dataset = dataset['train']\n",
    "test_dataset = dataset['test']\n",
    "\n",
    "train_texts = []\n",
    "train_labels = []\n",
    "\n",
    "for x in train_dataset:\n",
    "    train_texts.append(x['text'].numpy().decode())\n",
    "    train_labels.append([int(x['label'].numpy())])\n",
    "\n",
    "test_texts = []\n",
    "test_labels = []\n",
    "\n",
    "for x in test_dataset:\n",
    "    test_texts.append(x['text'].numpy().decode())\n",
    "    test_labels.append([int(x['label'].numpy())])"
   ],
   "metadata": {
    "collapsed": false,
    "ExecuteTime": {
     "end_time": "2023-06-01T11:35:35.486757Z",
     "start_time": "2023-06-01T11:35:13.304010Z"
    }
   }
  },
  {
   "cell_type": "code",
   "execution_count": 3,
   "outputs": [],
   "source": [
    "vocab_size = 10_000\n",
    "maxlen = 140\n",
    "\n",
    "tokenizer = tf.keras.preprocessing.text.Tokenizer(num_words = vocab_size, oov_token=\"<OOV>\")\n",
    "tokenizer.fit_on_texts(train_texts)\n",
    "\n",
    "train_sequences = tokenizer.texts_to_sequences(train_texts)\n",
    "test_sequences = tokenizer.texts_to_sequences(test_texts)\n",
    "\n",
    "train_padded = tf.keras.preprocessing.sequence.pad_sequences(train_sequences, maxlen=maxlen)\n",
    "test_padded = tf.keras.preprocessing.sequence.pad_sequences(test_sequences, maxlen=maxlen)\n",
    "\n",
    "train_padded, train_labels = np.array(train_padded), np.array(train_labels)\n",
    "test_padded, test_labels = np.array(test_padded), np.array(test_labels)\n",
    "\n",
    "model = tf.keras.Sequential([\n",
    "    tf.keras.layers.Embedding(vocab_size, 16),\n",
    "    tf.keras.layers.LSTM(64),\n",
    "    tf.keras.layers.Dense(64, activation='relu'),\n",
    "    tf.keras.layers.Dense(1, activation='sigmoid')\n",
    "])\n",
    "\n",
    "model.compile(loss='binary_crossentropy', optimizer='adam', metrics=['accuracy'])"
   ],
   "metadata": {
    "collapsed": false,
    "ExecuteTime": {
     "end_time": "2023-06-01T11:36:28.089796Z",
     "start_time": "2023-06-01T11:35:35.485699Z"
    }
   }
  },
  {
   "cell_type": "code",
   "execution_count": 4,
   "outputs": [
    {
     "name": "stdout",
     "output_type": "stream",
     "text": [
      "17500/17500 [==============================] - 845s 48ms/step - loss: 0.1823 - accuracy: 0.9287 - val_loss: 0.1411 - val_accuracy: 0.9475\n"
     ]
    },
    {
     "data": {
      "text/plain": "<keras.callbacks.History at 0x294f05bd0>"
     },
     "execution_count": 4,
     "metadata": {},
     "output_type": "execute_result"
    }
   ],
   "source": [
    "model.fit(train_padded, train_labels, epochs=1, validation_data=(test_padded, test_labels))"
   ],
   "metadata": {
    "collapsed": false,
    "ExecuteTime": {
     "end_time": "2023-06-01T11:50:33.864808Z",
     "start_time": "2023-06-01T11:36:28.088521Z"
    }
   }
  },
  {
   "cell_type": "code",
   "execution_count": 13,
   "outputs": [],
   "source": [
    "labels = [1, 1, 0, 1]\n",
    "reviews = ['I absolutely like this restaurant',\n",
    "         'I love the salad!',\n",
    "         'I did not like the service',\n",
    "         'The university is great']"
   ],
   "metadata": {
    "collapsed": false,
    "ExecuteTime": {
     "end_time": "2023-06-01T12:25:20.110957Z",
     "start_time": "2023-06-01T12:25:20.096599Z"
    }
   }
  },
  {
   "cell_type": "code",
   "execution_count": 14,
   "outputs": [],
   "source": [
    "tokenized_reviews = tokenizer.texts_to_sequences(reviews)\n",
    "reviews_preprocessed = tf.keras.preprocessing.sequence.pad_sequences(tokenized_reviews, maxlen=maxlen)"
   ],
   "metadata": {
    "collapsed": false,
    "ExecuteTime": {
     "end_time": "2023-06-01T12:25:21.290998Z",
     "start_time": "2023-06-01T12:25:21.280560Z"
    }
   }
  },
  {
   "cell_type": "code",
   "execution_count": 15,
   "outputs": [
    {
     "name": "stdout",
     "output_type": "stream",
     "text": [
      "1/1 [==============================] - 0s 183ms/step\n"
     ]
    }
   ],
   "source": [
    "predictions = model.predict(reviews_preprocessed)"
   ],
   "metadata": {
    "collapsed": false,
    "ExecuteTime": {
     "end_time": "2023-06-01T12:25:22.141739Z",
     "start_time": "2023-06-01T12:25:21.905472Z"
    }
   }
  },
  {
   "cell_type": "code",
   "execution_count": 16,
   "outputs": [
    {
     "name": "stdout",
     "output_type": "stream",
     "text": [
      "Review: I absolutely like this restaurant\n",
      "Prediction: 0.8920900225639343\n",
      "Label: 1\n",
      "\n",
      "Review: I love the salad!\n",
      "Prediction: 0.9826284646987915\n",
      "Label: 1\n",
      "\n",
      "Review: I did not like the service\n",
      "Prediction: 0.2976422607898712\n",
      "Label: 0\n",
      "\n",
      "Review: The university is great\n",
      "Prediction: 0.9514614939689636\n",
      "Label: 1\n",
      "\n"
     ]
    }
   ],
   "source": [
    "for i in range(len(reviews)):\n",
    "    print(f'Review: {reviews[i]}')\n",
    "    print(f'Prediction: {predictions[i][0]}')\n",
    "    print(f'Label: {labels[i]}')\n",
    "    print()"
   ],
   "metadata": {
    "collapsed": false,
    "ExecuteTime": {
     "end_time": "2023-06-01T12:25:22.947891Z",
     "start_time": "2023-06-01T12:25:22.940730Z"
    }
   }
  },
  {
   "cell_type": "code",
   "execution_count": null,
   "outputs": [],
   "source": [],
   "metadata": {
    "collapsed": false
   }
  }
 ],
 "metadata": {
  "kernelspec": {
   "display_name": "Python 3",
   "language": "python",
   "name": "python3"
  },
  "language_info": {
   "codemirror_mode": {
    "name": "ipython",
    "version": 2
   },
   "file_extension": ".py",
   "mimetype": "text/x-python",
   "name": "python",
   "nbconvert_exporter": "python",
   "pygments_lexer": "ipython2",
   "version": "2.7.6"
  }
 },
 "nbformat": 4,
 "nbformat_minor": 0
}
